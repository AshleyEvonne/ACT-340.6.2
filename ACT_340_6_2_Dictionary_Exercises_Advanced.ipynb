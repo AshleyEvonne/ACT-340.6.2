{
  "nbformat": 4,
  "nbformat_minor": 0,
  "metadata": {
    "colab": {
      "provenance": [],
      "include_colab_link": true
    },
    "kernelspec": {
      "name": "python3",
      "display_name": "Python 3"
    },
    "language_info": {
      "name": "python"
    }
  },
  "cells": [
    {
      "cell_type": "markdown",
      "metadata": {
        "id": "view-in-github",
        "colab_type": "text"
      },
      "source": [
        "<a href=\"https://colab.research.google.com/github/AshleyEvonne/ACT-340.6.2/blob/main/ACT_340_6_2_Dictionary_Exercises_Advanced.ipynb\" target=\"_parent\"><img src=\"https://colab.research.google.com/assets/colab-badge.svg\" alt=\"Open In Colab\"/></a>"
      ]
    },
    {
      "cell_type": "markdown",
      "source": [
        "# Dictionary Practice Excercises- Advanced\n",
        "\n",
        "Complete the following practice excercises below to build up your skills with manipulating dictionaries.\n",
        "\n"
      ],
      "metadata": {
        "id": "fxJ6r0UtCx8d"
      }
    },
    {
      "cell_type": "markdown",
      "source": [
        "**Problem 1**\n",
        "\n",
        "* Add the following key/value pair to the dictionary below.\n",
        "  \"oceans\": [\"Pacific\", \"Atlantic\", \"Indian\", \"Arctic\"]\n",
        "\n"
      ],
      "metadata": {
        "id": "SPZ5wKD54OV8"
      }
    },
    {
      "cell_type": "code",
      "source": [
        "geography= {\"continets\": [\"North America\", \"South America\", \"Africa\", \"Antarctica\", \"Australia\", \"Asia\", \"Europe\"]}\n",
        "geography[\"oceans\"] = [\"Pacific\", \"Atlantic\", \"Indian\", \"Arctic\"]\n",
        "print(geography)"
      ],
      "metadata": {
        "id": "su6Dtm2l7moD",
        "outputId": "64d394c7-66d7-48b2-a8fe-4632a1723f6a",
        "colab": {
          "base_uri": "https://localhost:8080/"
        }
      },
      "execution_count": 2,
      "outputs": [
        {
          "output_type": "stream",
          "name": "stdout",
          "text": [
            "{'continets': ['North America', 'South America', 'Africa', 'Antarctica', 'Australia', 'Asia', 'Europe'], 'oceans': ['Pacific', 'Atlantic', 'Indian', 'Arctic']}\n"
          ]
        }
      ]
    },
    {
      "cell_type": "markdown",
      "source": [
        "**Problem 2**\n",
        "\n",
        "\n",
        "\n",
        "*   Use the Dictionary below\n",
        "*   Change the value for the height key to 72 inches\n",
        "\n"
      ],
      "metadata": {
        "id": "lE7F2U9L75_T"
      }
    },
    {
      "cell_type": "code",
      "source": [
        "patient= {\"name\": \"John Doe\", \"age\": 25, \"height\": 64, \"symptoms\": \"cough\" }\n",
        "patient[\"height\"] = 72\n",
        "print(patient)\n"
      ],
      "metadata": {
        "id": "Dne-3hDU8lSA",
        "outputId": "0db25ffc-58eb-4116-ae8b-498b823f646b",
        "colab": {
          "base_uri": "https://localhost:8080/"
        }
      },
      "execution_count": 3,
      "outputs": [
        {
          "output_type": "stream",
          "name": "stdout",
          "text": [
            "{'name': 'John Doe', 'age': 25, 'height': 72, 'symptoms': 'cough'}\n"
          ]
        }
      ]
    },
    {
      "cell_type": "markdown",
      "source": [
        "**Problem 3**\n",
        "\n",
        "*   Use the same dictionary as above\n",
        "*   Use a Class method to generate a list of tuples that consists of each key:value pair\n",
        "\n"
      ],
      "metadata": {
        "id": "iRqGQjLZ9aDq"
      }
    },
    {
      "cell_type": "code",
      "source": [
        "class Patient:\n",
        "    def __init__(self, name, age, height, symptoms):\n",
        "        self.patient_data = {\n",
        "            \"name\": name,\n",
        "            \"age\": age,\n",
        "            \"height\": height,\n",
        "            \"symptoms\": symptoms\n",
        "        }\n",
        "\n",
        "    def to_tuples(self):\n",
        "        return list(self.patient_data.items())\n",
        "patient_instance = Patient(\"John Doe\", 25, 72, \"cough\")\n",
        "patient_tuples = patient_instance.to_tuples()\n",
        "print(patient_tuples)"
      ],
      "metadata": {
        "id": "ej-LPcQw9tlH",
        "outputId": "3f37b04e-61b1-4da5-8735-814d8e8efc26",
        "colab": {
          "base_uri": "https://localhost:8080/"
        }
      },
      "execution_count": 4,
      "outputs": [
        {
          "output_type": "stream",
          "name": "stdout",
          "text": [
            "[('name', 'John Doe'), ('age', 25), ('height', 72), ('symptoms', 'cough')]\n"
          ]
        }
      ]
    },
    {
      "cell_type": "markdown",
      "source": [
        "**Problem 4**\n",
        "\n",
        "\n",
        "\n",
        "*   Use the same dictionary as above\n",
        "*   Use a Class method to print the value of \"name'\n",
        "\n"
      ],
      "metadata": {
        "id": "30gd_UKX9xRj"
      }
    },
    {
      "cell_type": "code",
      "source": [
        "class Patient:\n",
        "    def __init__(self, name, age, height, symptoms):\n",
        "        self.patient_data = {\n",
        "            \"name\": name,\n",
        "            \"age\": age,\n",
        "            \"height\": height,\n",
        "            \"symptoms\": symptoms\n",
        "        }\n",
        "\n",
        "    def print_name(self):\n",
        "        print(self.patient_data[\"name\"])\n",
        "patient_instance = Patient(\"John Doe\", 25, 72, \"cough\")\n",
        "patient_instance.print_name()"
      ],
      "metadata": {
        "id": "jtVXJwpp-E2D",
        "outputId": "0a22bb23-efc4-45b7-f58a-b2a4826d7186",
        "colab": {
          "base_uri": "https://localhost:8080/"
        }
      },
      "execution_count": 8,
      "outputs": [
        {
          "output_type": "stream",
          "name": "stdout",
          "text": [
            "John Doe\n"
          ]
        }
      ]
    },
    {
      "cell_type": "markdown",
      "source": [
        "**Problem 5**\n",
        "\n",
        "\n",
        "\n",
        "*   Use the same dictionary as above\n",
        "*   Use a Class method to look for the key \"weight\", and supply a default arguement of 150 if the value is not found\n",
        "\n"
      ],
      "metadata": {
        "id": "xEHhz1kf-Fcl"
      }
    },
    {
      "cell_type": "code",
      "source": [
        "class Patient:\n",
        "    def __init__(self, name, age, height, symptoms):\n",
        "        self.patient_data = {\n",
        "            \"name\": name,\n",
        "            \"age\": age,\n",
        "            \"height\": height,\n",
        "            \"symptoms\": symptoms\n",
        "        }\n",
        "\n",
        "    def get_weight(self, default_weight=150):\n",
        "        return self.patient_data.get(\"weight\", default_weight)\n",
        "\n",
        "patient_instance = Patient(\"John Doe\", 25, 72, \"cough\")\n",
        "weight = patient_instance.get_weight()\n",
        "print(weight)"
      ],
      "metadata": {
        "id": "lds025UR-jpK",
        "outputId": "bd8a4a30-638d-4492-9815-9dd175e7c727",
        "colab": {
          "base_uri": "https://localhost:8080/"
        }
      },
      "execution_count": 12,
      "outputs": [
        {
          "output_type": "stream",
          "name": "stdout",
          "text": [
            "150\n"
          ]
        }
      ]
    },
    {
      "cell_type": "markdown",
      "source": [
        "**Problem 6**\n",
        "\n",
        "\n",
        "*   Use the same dictionary as above\n",
        "*   Use a Class method to remove everything from the dictionary\n",
        "\n",
        "\n"
      ],
      "metadata": {
        "id": "AdApgIMi-moT"
      }
    },
    {
      "cell_type": "code",
      "source": [
        "class Patient:\n",
        "    def __init__(self, name, age, height, symptoms):\n",
        "        self.patient_data = {\n",
        "            \"name\": name,\n",
        "            \"age\": age,\n",
        "            \"height\": height,\n",
        "            \"symptoms\": symptoms\n",
        "        }\n",
        "\n",
        "    def clear_data(self):\n",
        "        self.patient_data.clear()\n",
        "\n",
        "    def print_data(self):\n",
        "        print(self.patient_data)\n",
        "\n",
        "# Create an instance of the Patient class\n",
        "patient_instance = Patient(\"John Doe\", 25, 72, \"cough\")\n",
        "\n",
        "# Print the data before clearing\n",
        "print(\"Before clearing:\", end=' ')\n",
        "patient_instance.print_data()\n",
        "\n",
        "# Clear the patient data\n",
        "patient_instance.clear_data()\n",
        "\n",
        "# Print the data after clearing\n",
        "print(\"After clearing:\", end=' ')\n",
        "patient_instance.print_data()"
      ],
      "metadata": {
        "id": "a7YXxpV7_O1F",
        "outputId": "6b01a7b8-eab2-416a-ea03-d03e5e886f33",
        "colab": {
          "base_uri": "https://localhost:8080/"
        }
      },
      "execution_count": 13,
      "outputs": [
        {
          "output_type": "stream",
          "name": "stdout",
          "text": [
            "Before clearing: {'name': 'John Doe', 'age': 25, 'height': 72, 'symptoms': 'cough'}\n",
            "After clearing: {}\n"
          ]
        }
      ]
    },
    {
      "cell_type": "markdown",
      "source": [
        "**Problem 7**\n",
        "\n",
        "\n",
        "\n",
        "*   Use the dictionary below\n",
        "*   Use a for loop to move through the dictionary.\n",
        "*   If the value is above 2000, add the value to a new list minus 500\n",
        "*   Example: If the value is 2500, 2000 would be added to the new list\n",
        "\n"
      ],
      "metadata": {
        "id": "9ApUQ9qn_P01"
      }
    },
    {
      "cell_type": "code",
      "source": [
        "stock_qty= {\"cookies\": 3200, \"bread\": 500, \"crackers\": 52000, \"chips\": 2000}"
      ],
      "metadata": {
        "id": "045nPKTs_6qg"
      },
      "execution_count": null,
      "outputs": []
    },
    {
      "cell_type": "markdown",
      "source": [
        "**Problem 8 **\n",
        "\n",
        "\n",
        "*   Use the list I did below\n",
        "*   Loop through the list\n",
        "*   Create a dictionary to keep track of how many times a number appears in a list\n",
        "*   Print the final dictionary\n",
        "\n",
        "*   Things to consider:\n",
        "\n",
        ">* How to check if an integer already exists in the new dictionary\n",
        ">* What is the first value when the key gets added to the dictionary?\n",
        ">* How to increase the value of each key on each iteration of the loop?\n",
        "\n",
        "\n",
        "\n"
      ],
      "metadata": {
        "id": "3TcqNBOGBGTP"
      }
    },
    {
      "cell_type": "code",
      "source": [
        "list= [10, 9, 88, 20, 9, 20, 22, 101, 68, 10, 108, 33, 9, 53]"
      ],
      "metadata": {
        "id": "mfgV0KeYCOuO"
      },
      "execution_count": null,
      "outputs": []
    }
  ]
}